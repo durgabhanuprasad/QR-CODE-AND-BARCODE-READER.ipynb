{
 "cells": [
  {
   "cell_type": "code",
   "execution_count": null,
   "id": "7cf3f136-d235-41ef-ba11-d781707b032b",
   "metadata": {},
   "outputs": [
    {
     "name": "stdout",
     "output_type": "stream",
     "text": [
      "Starting camera. Press 'q' to quit.\n"
     ]
    }
   ],
   "source": [
    "import cv2\n",
    "from pyzbar.pyzbar import decode\n",
    "\n",
    "cap = cv2.VideoCapture(0)\n",
    "\n",
    "print(\"Starting camera. Press 'q' to quit.\")\n",
    "\n",
    "while True:\n",
    "    success, frame = cap.read()\n",
    "    if not success:\n",
    "        break\n",
    "\n",
    "    \n",
    "    for code in decode(frame):\n",
    "        data = code.data.decode('utf-8')\n",
    "        type_ = code.type\n",
    "        points = code.polygon\n",
    "\n",
    "        \n",
    "        pts = [(p.x, p.y) for p in points]\n",
    "        pts.append(pts[0])\n",
    "        for i in range(len(pts)-1):\n",
    "            cv2.line(frame, pts[i], pts[i+1], (0, 255, 0), 2)\n",
    "\n",
    "    \n",
    "        cv2.putText(frame, f'{type_}: {data}', (pts[0][0], pts[0][1] - 10),\n",
    "                    cv2.FONT_HERSHEY_SIMPLEX, 0.6, (255, 0, 0), 2)\n",
    "\n",
    "        print(f'Detected {type_}: {data}')\n",
    "\n",
    "    cv2.imshow('Barcode/QR Code Scanner', frame)\n",
    "\n",
    "    \n",
    "    if cv2.waitKey(1) & 0xFF == ord('q'):\n",
    "        break\n",
    "\n",
    "cap.release()\n",
    "cv2.destroyAllWindows()\n"
   ]
  },
  {
   "cell_type": "code",
   "execution_count": null,
   "id": "8ce90078-2b64-4d40-b50c-99808ebc92a5",
   "metadata": {},
   "outputs": [],
   "source": []
  },
  {
   "cell_type": "code",
   "execution_count": null,
   "id": "b633522e-8088-4a98-8e55-8c3a6a338985",
   "metadata": {},
   "outputs": [],
   "source": []
  }
 ],
 "metadata": {
  "kernelspec": {
   "display_name": "Python 3 (ipykernel)",
   "language": "python",
   "name": "python3"
  },
  "language_info": {
   "codemirror_mode": {
    "name": "ipython",
    "version": 3
   },
   "file_extension": ".py",
   "mimetype": "text/x-python",
   "name": "python",
   "nbconvert_exporter": "python",
   "pygments_lexer": "ipython3",
   "version": "3.12.4"
  }
 },
 "nbformat": 4,
 "nbformat_minor": 5
}
